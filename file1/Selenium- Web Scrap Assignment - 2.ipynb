{
 "cells": [
  {
   "cell_type": "markdown",
   "id": "22d9cd2e",
   "metadata": {},
   "source": [
    "# Question 1"
   ]
  },
  {
   "cell_type": "code",
   "execution_count": 1,
   "id": "20a5a61a",
   "metadata": {},
   "outputs": [],
   "source": [
    "import selenium\n",
    "import pandas as pd\n",
    "import re\n",
    "from selenium import webdriver\n",
    "import time\n",
    "import warnings \n",
    "warnings.filterwarnings('ignore')\n",
    "from selenium.webdriver.common.by import By"
   ]
  },
  {
   "cell_type": "code",
   "execution_count": 129,
   "id": "cbdd167d",
   "metadata": {},
   "outputs": [],
   "source": [
    "driver=webdriver.Chrome()"
   ]
  },
  {
   "cell_type": "code",
   "execution_count": 130,
   "id": "8c2dd624",
   "metadata": {},
   "outputs": [],
   "source": [
    "driver.get(\"https://www.shine.com/\")"
   ]
  },
  {
   "cell_type": "code",
   "execution_count": 144,
   "id": "e4183b2b",
   "metadata": {},
   "outputs": [],
   "source": [
    "job=driver.find_element(By.CLASS_NAME,\"form-control  \")\n",
    "job.send_keys(\"Data Analyst\")"
   ]
  },
  {
   "cell_type": "code",
   "execution_count": 143,
   "id": "f3cc38ba",
   "metadata": {},
   "outputs": [],
   "source": [
    "location=driver.find_element(By.XPATH,\"/html/body/div/div[4]/div/div[2]/div[2]/div/form/div/div[1]/ul/li[2]/div/input\")\n",
    "location.send_keys(\"Bangalore\")"
   ]
  },
  {
   "cell_type": "code",
   "execution_count": 145,
   "id": "83a4c4c0",
   "metadata": {},
   "outputs": [],
   "source": [
    "search=driver.find_element(By.XPATH,\"/html/body/div/div[4]/div/div[2]/div[2]/div[1]/form/div/div[2]/div/button\")\n",
    "search.click()"
   ]
  },
  {
   "cell_type": "code",
   "execution_count": 227,
   "id": "c01670a8",
   "metadata": {},
   "outputs": [],
   "source": [
    "title=[]\n",
    "company=[]\n",
    "loc=[]\n",
    "\n"
   ]
  },
  {
   "cell_type": "code",
   "execution_count": 228,
   "id": "4cc05668",
   "metadata": {
    "scrolled": true
   },
   "outputs": [
    {
     "name": "stdout",
     "output_type": "stream",
     "text": [
      "['Data Analyst , Senior Data Analyst , Data Analyst - Tec ...', 'Data Analyst', 'Data Analyst (Power BI, Python, SQL)- Internal Audit do ...', 'Data Analyst Fresher and Experience Vacancy', 'Data Analyst Opening', 'Clinical Data Analyst', 'Data Analyst Recruitment', 'Data Analyst Recruitment', 'Business Analyst', 'Data Governance Analyst']\n"
     ]
    }
   ],
   "source": [
    "t=driver.find_elements(By.XPATH,'//strong[@class=\"jobCard_pReplaceH2__xWmHg\"]/h2/a')[:10]\n",
    "for i in t:\n",
    "    t=i.text\n",
    "    title.append(t)\n",
    "    \n",
    "print(title) \n",
    "    "
   ]
  },
  {
   "cell_type": "code",
   "execution_count": 229,
   "id": "de587b3f",
   "metadata": {},
   "outputs": [
    {
     "name": "stdout",
     "output_type": "stream",
     "text": [
      "['appsoft solutions', 'valenta bpo solutions pvt. ltd.', 'talent leads hr solutions pvt ltd', 'radhika enterprises', 'radhika enterprises', 'techno endura', 'radhika enterprises', 'radhika enterprises', 'mackenzie modern it solutions priva...', 'white horse manpower consultancy (p...']\n"
     ]
    }
   ],
   "source": [
    "c=driver.find_elements(By.XPATH,'//div[@class=\"jobCard_jobCard_cName__mYnow\"]/span')[:10]\n",
    "for i in c:\n",
    "    c=i.text\n",
    "    company.append(c)\n",
    "print(company)"
   ]
  },
  {
   "cell_type": "code",
   "execution_count": 230,
   "id": "16192c49",
   "metadata": {},
   "outputs": [],
   "source": [
    "l=driver.find_elements(By.XPATH,'//div[@class=\" jobCard_jobCard_lists_item__YxRkV jobCard_locationIcon__zrWt2\"]')[:10]\n",
    "for item in l:\n",
    "    l=item.text.replace('\\n',' ')\n",
    "    loc.append(l)\n",
    "\n",
    "\n",
    "    \n"
   ]
  },
  {
   "cell_type": "code",
   "execution_count": 231,
   "id": "39ea1cf3",
   "metadata": {},
   "outputs": [
    {
     "data": {
      "text/html": [
       "<div>\n",
       "<style scoped>\n",
       "    .dataframe tbody tr th:only-of-type {\n",
       "        vertical-align: middle;\n",
       "    }\n",
       "\n",
       "    .dataframe tbody tr th {\n",
       "        vertical-align: top;\n",
       "    }\n",
       "\n",
       "    .dataframe thead th {\n",
       "        text-align: right;\n",
       "    }\n",
       "</style>\n",
       "<table border=\"1\" class=\"dataframe\">\n",
       "  <thead>\n",
       "    <tr style=\"text-align: right;\">\n",
       "      <th></th>\n",
       "      <th>Job Title</th>\n",
       "      <th>Company</th>\n",
       "      <th>Location</th>\n",
       "    </tr>\n",
       "  </thead>\n",
       "  <tbody>\n",
       "    <tr>\n",
       "      <th>1</th>\n",
       "      <td>Data Analyst , Senior Data Analyst , Data Anal...</td>\n",
       "      <td>appsoft solutions</td>\n",
       "      <td>Bangalore +8</td>\n",
       "    </tr>\n",
       "    <tr>\n",
       "      <th>2</th>\n",
       "      <td>Data Analyst</td>\n",
       "      <td>valenta bpo solutions pvt. ltd.</td>\n",
       "      <td>Bangalore</td>\n",
       "    </tr>\n",
       "    <tr>\n",
       "      <th>3</th>\n",
       "      <td>Data Analyst (Power BI, Python, SQL)- Internal...</td>\n",
       "      <td>talent leads hr solutions pvt ltd</td>\n",
       "      <td>Bangalore</td>\n",
       "    </tr>\n",
       "    <tr>\n",
       "      <th>4</th>\n",
       "      <td>Data Analyst Fresher and Experience Vacancy</td>\n",
       "      <td>radhika enterprises</td>\n",
       "      <td>Bangalore +12</td>\n",
       "    </tr>\n",
       "    <tr>\n",
       "      <th>5</th>\n",
       "      <td>Data Analyst Opening</td>\n",
       "      <td>radhika enterprises</td>\n",
       "      <td>Bangalore +12</td>\n",
       "    </tr>\n",
       "    <tr>\n",
       "      <th>6</th>\n",
       "      <td>Clinical Data Analyst</td>\n",
       "      <td>techno endura</td>\n",
       "      <td>Bangalore +6</td>\n",
       "    </tr>\n",
       "    <tr>\n",
       "      <th>7</th>\n",
       "      <td>Data Analyst Recruitment</td>\n",
       "      <td>radhika enterprises</td>\n",
       "      <td>Bangalore +12</td>\n",
       "    </tr>\n",
       "    <tr>\n",
       "      <th>8</th>\n",
       "      <td>Data Analyst Recruitment</td>\n",
       "      <td>radhika enterprises</td>\n",
       "      <td>Bangalore +12</td>\n",
       "    </tr>\n",
       "    <tr>\n",
       "      <th>9</th>\n",
       "      <td>Business Analyst</td>\n",
       "      <td>mackenzie modern it solutions priva...</td>\n",
       "      <td>Bangalore +6</td>\n",
       "    </tr>\n",
       "    <tr>\n",
       "      <th>10</th>\n",
       "      <td>Data Governance Analyst</td>\n",
       "      <td>white horse manpower consultancy (p...</td>\n",
       "      <td>Bangalore</td>\n",
       "    </tr>\n",
       "  </tbody>\n",
       "</table>\n",
       "</div>"
      ],
      "text/plain": [
       "                                            Job Title  \\\n",
       "1   Data Analyst , Senior Data Analyst , Data Anal...   \n",
       "2                                        Data Analyst   \n",
       "3   Data Analyst (Power BI, Python, SQL)- Internal...   \n",
       "4         Data Analyst Fresher and Experience Vacancy   \n",
       "5                                Data Analyst Opening   \n",
       "6                               Clinical Data Analyst   \n",
       "7                            Data Analyst Recruitment   \n",
       "8                            Data Analyst Recruitment   \n",
       "9                                    Business Analyst   \n",
       "10                            Data Governance Analyst   \n",
       "\n",
       "                                   Company       Location  \n",
       "1                        appsoft solutions   Bangalore +8  \n",
       "2          valenta bpo solutions pvt. ltd.      Bangalore  \n",
       "3        talent leads hr solutions pvt ltd      Bangalore  \n",
       "4                      radhika enterprises  Bangalore +12  \n",
       "5                      radhika enterprises  Bangalore +12  \n",
       "6                            techno endura   Bangalore +6  \n",
       "7                      radhika enterprises  Bangalore +12  \n",
       "8                      radhika enterprises  Bangalore +12  \n",
       "9   mackenzie modern it solutions priva...   Bangalore +6  \n",
       "10  white horse manpower consultancy (p...      Bangalore  "
      ]
     },
     "execution_count": 231,
     "metadata": {},
     "output_type": "execute_result"
    }
   ],
   "source": [
    "df=pd.DataFrame({\"Job Title\":title,\"Company\":company,\"Location\":loc},index=range(1,len(title)+1))\n",
    "df"
   ]
  },
  {
   "cell_type": "markdown",
   "id": "dd2306fb",
   "metadata": {},
   "source": [
    "# Question 2"
   ]
  },
  {
   "cell_type": "code",
   "execution_count": 2,
   "id": "4edac564",
   "metadata": {},
   "outputs": [],
   "source": [
    "import selenium\n",
    "import pandas as pd\n",
    "import re\n",
    "from selenium import webdriver\n",
    "import time\n",
    "import warnings \n",
    "warnings.filterwarnings('ignore')\n",
    "from selenium.webdriver.common.by import By"
   ]
  },
  {
   "cell_type": "code",
   "execution_count": 34,
   "id": "2d2ad555",
   "metadata": {},
   "outputs": [],
   "source": [
    "driver=webdriver.Chrome()"
   ]
  },
  {
   "cell_type": "code",
   "execution_count": 35,
   "id": "e4c0275b",
   "metadata": {},
   "outputs": [],
   "source": [
    "driver.get(\"https://www.naukri.com/\")"
   ]
  },
  {
   "cell_type": "code",
   "execution_count": 36,
   "id": "58cf4f46",
   "metadata": {},
   "outputs": [],
   "source": [
    "job=driver.find_element(By.CLASS_NAME,\"suggestor-input \")\n",
    "job.send_keys(\"Data Analyst\")"
   ]
  },
  {
   "cell_type": "code",
   "execution_count": 40,
   "id": "aa63eefc",
   "metadata": {},
   "outputs": [],
   "source": [
    "location=driver.find_element(By.XPATH,'/html/body/div[1]/div[6]/div/div/div[5]/div/div/div/div[1]/div/input')\n",
    "location.send_keys(\"Bangalore\")"
   ]
  },
  {
   "cell_type": "code",
   "execution_count": 41,
   "id": "1f5e12df",
   "metadata": {},
   "outputs": [],
   "source": [
    "search=driver.find_element(By.CLASS_NAME,'qsbSubmit')\n",
    "search.click()"
   ]
  },
  {
   "cell_type": "code",
   "execution_count": 90,
   "id": "21ed7c57",
   "metadata": {},
   "outputs": [],
   "source": [
    "title=[]\n",
    "company=[]\n",
    "location=[]\n",
    "exp=[]\n"
   ]
  },
  {
   "cell_type": "code",
   "execution_count": 91,
   "id": "7c67f500",
   "metadata": {},
   "outputs": [],
   "source": [
    "tit=driver.find_elements(By.XPATH,'//div[@class=\"cust-job-tuple layout-wrapper lay-2 sjw__tuple \"]/div/a')[:10]\n",
    "for i in tit:\n",
    "    tit=i.text\n",
    "    title.append(tit)\n",
    " "
   ]
  },
  {
   "cell_type": "code",
   "execution_count": 92,
   "id": "ed3745e0",
   "metadata": {},
   "outputs": [],
   "source": [
    "loc=driver.find_elements(By.XPATH,'//span[@class=\"ni-job-tuple-icon ni-job-tuple-icon-srp-location loc\"]/span')[:10]\n",
    "for i in loc:\n",
    "    loc=i.text\n",
    "    location.append(loc)"
   ]
  },
  {
   "cell_type": "code",
   "execution_count": 93,
   "id": "3dd5d442",
   "metadata": {},
   "outputs": [],
   "source": [
    "comp=driver.find_elements(By.XPATH,'//div[@class=\" row2\"]/span/a')[:10]\n",
    "for i in comp:\n",
    "    comp=i.text\n",
    "    company.append(comp)"
   ]
  },
  {
   "cell_type": "code",
   "execution_count": 94,
   "id": "b5b3a7a4",
   "metadata": {},
   "outputs": [],
   "source": [
    "ex=driver.find_elements(By.XPATH,'//span[@class=\"exp-wrap\"]/span/span')[:10]\n",
    "for i in ex:\n",
    "    ex=i.text\n",
    "    exp.append(ex)"
   ]
  },
  {
   "cell_type": "code",
   "execution_count": 95,
   "id": "6dd94f29",
   "metadata": {},
   "outputs": [
    {
     "data": {
      "text/plain": [
       "(10, 10, 10, 10)"
      ]
     },
     "execution_count": 95,
     "metadata": {},
     "output_type": "execute_result"
    }
   ],
   "source": [
    "len(title),len(company),len(location),len(exp)"
   ]
  },
  {
   "cell_type": "code",
   "execution_count": 98,
   "id": "a8bdc609",
   "metadata": {},
   "outputs": [
    {
     "data": {
      "text/html": [
       "<div>\n",
       "<style scoped>\n",
       "    .dataframe tbody tr th:only-of-type {\n",
       "        vertical-align: middle;\n",
       "    }\n",
       "\n",
       "    .dataframe tbody tr th {\n",
       "        vertical-align: top;\n",
       "    }\n",
       "\n",
       "    .dataframe thead th {\n",
       "        text-align: right;\n",
       "    }\n",
       "</style>\n",
       "<table border=\"1\" class=\"dataframe\">\n",
       "  <thead>\n",
       "    <tr style=\"text-align: right;\">\n",
       "      <th></th>\n",
       "      <th>Title</th>\n",
       "      <th>Company Name</th>\n",
       "      <th>Location</th>\n",
       "      <th>Experience</th>\n",
       "    </tr>\n",
       "  </thead>\n",
       "  <tbody>\n",
       "    <tr>\n",
       "      <th>1</th>\n",
       "      <td>Data Analyst</td>\n",
       "      <td>Ltimindtree</td>\n",
       "      <td>Hybrid - Kolkata, Bengaluru</td>\n",
       "      <td>12-17 Yrs</td>\n",
       "    </tr>\n",
       "    <tr>\n",
       "      <th>2</th>\n",
       "      <td>Data Analyst</td>\n",
       "      <td>3.7</td>\n",
       "      <td>Hybrid - Bengaluru</td>\n",
       "      <td>3-5 Yrs</td>\n",
       "    </tr>\n",
       "    <tr>\n",
       "      <th>3</th>\n",
       "      <td>Data Analyst</td>\n",
       "      <td>8245 Reviews</td>\n",
       "      <td>Bengaluru</td>\n",
       "      <td>3-7 Yrs</td>\n",
       "    </tr>\n",
       "    <tr>\n",
       "      <th>4</th>\n",
       "      <td>Field Programs Data Analyst</td>\n",
       "      <td>Naukri Premium - Employer Services</td>\n",
       "      <td>Bengaluru</td>\n",
       "      <td>2-5 Yrs</td>\n",
       "    </tr>\n",
       "    <tr>\n",
       "      <th>5</th>\n",
       "      <td>Data Analyst</td>\n",
       "      <td>Freshmenu</td>\n",
       "      <td>Bengaluru</td>\n",
       "      <td>1-5 Yrs</td>\n",
       "    </tr>\n",
       "    <tr>\n",
       "      <th>6</th>\n",
       "      <td>Data Analyst</td>\n",
       "      <td>3.0</td>\n",
       "      <td>Bengaluru</td>\n",
       "      <td>2-4 Yrs</td>\n",
       "    </tr>\n",
       "    <tr>\n",
       "      <th>7</th>\n",
       "      <td>Field Programs Data Analyst</td>\n",
       "      <td>136 Reviews</td>\n",
       "      <td>Bengaluru</td>\n",
       "      <td>2-5 Yrs</td>\n",
       "    </tr>\n",
       "    <tr>\n",
       "      <th>8</th>\n",
       "      <td>Data Analyst</td>\n",
       "      <td>Salesforce</td>\n",
       "      <td>Bengaluru</td>\n",
       "      <td>3-8 Yrs</td>\n",
       "    </tr>\n",
       "    <tr>\n",
       "      <th>9</th>\n",
       "      <td>Data Analyst</td>\n",
       "      <td>4.1</td>\n",
       "      <td>Bengaluru</td>\n",
       "      <td>2-3 Yrs</td>\n",
       "    </tr>\n",
       "    <tr>\n",
       "      <th>10</th>\n",
       "      <td>Data Analyst</td>\n",
       "      <td>689 Reviews</td>\n",
       "      <td>Hybrid - Bengaluru</td>\n",
       "      <td>5-8 Yrs</td>\n",
       "    </tr>\n",
       "  </tbody>\n",
       "</table>\n",
       "</div>"
      ],
      "text/plain": [
       "                          Title                        Company Name  \\\n",
       "1                  Data Analyst                         Ltimindtree   \n",
       "2                  Data Analyst                                 3.7   \n",
       "3                  Data Analyst                        8245 Reviews   \n",
       "4   Field Programs Data Analyst  Naukri Premium - Employer Services   \n",
       "5                  Data Analyst                           Freshmenu   \n",
       "6                  Data Analyst                                 3.0   \n",
       "7   Field Programs Data Analyst                         136 Reviews   \n",
       "8                  Data Analyst                          Salesforce   \n",
       "9                  Data Analyst                                 4.1   \n",
       "10                 Data Analyst                         689 Reviews   \n",
       "\n",
       "                       Location Experience  \n",
       "1   Hybrid - Kolkata, Bengaluru  12-17 Yrs  \n",
       "2            Hybrid - Bengaluru    3-5 Yrs  \n",
       "3                     Bengaluru    3-7 Yrs  \n",
       "4                     Bengaluru    2-5 Yrs  \n",
       "5                     Bengaluru    1-5 Yrs  \n",
       "6                     Bengaluru    2-4 Yrs  \n",
       "7                     Bengaluru    2-5 Yrs  \n",
       "8                     Bengaluru    3-8 Yrs  \n",
       "9                     Bengaluru    2-3 Yrs  \n",
       "10           Hybrid - Bengaluru    5-8 Yrs  "
      ]
     },
     "execution_count": 98,
     "metadata": {},
     "output_type": "execute_result"
    }
   ],
   "source": [
    "df=pd.DataFrame({\"Title\":title,\"Company Name\":company,\"Location\":location,\"Experience\":exp},index=range(1,len(title)+1))\n",
    "df"
   ]
  },
  {
   "cell_type": "markdown",
   "id": "47d48f15",
   "metadata": {},
   "source": [
    "# Question 3"
   ]
  },
  {
   "cell_type": "code",
   "execution_count": 105,
   "id": "b1d7ae30",
   "metadata": {},
   "outputs": [],
   "source": [
    "import selenium\n",
    "import pandas as pd\n",
    "import re\n",
    "from selenium import webdriver\n",
    "import time\n",
    "import warnings \n",
    "warnings.filterwarnings('ignore')\n",
    "from selenium.webdriver.common.by import By"
   ]
  },
  {
   "cell_type": "code",
   "execution_count": 7,
   "id": "d3ddfc52",
   "metadata": {},
   "outputs": [],
   "source": [
    "driver=webdriver.Chrome()"
   ]
  },
  {
   "cell_type": "code",
   "execution_count": 8,
   "id": "f3daf03e",
   "metadata": {},
   "outputs": [],
   "source": [
    "driver.get('https://www.flipkart.com/')"
   ]
  },
  {
   "cell_type": "code",
   "execution_count": 15,
   "id": "5ee8758d",
   "metadata": {},
   "outputs": [],
   "source": [
    "s1=driver.find_element(By.XPATH,'//div[@class=\"_2SmNnR\"]/input')\n",
    "s1.send_keys('sunglasses')"
   ]
  },
  {
   "cell_type": "code",
   "execution_count": 18,
   "id": "514a9d62",
   "metadata": {},
   "outputs": [],
   "source": [
    "search=driver.find_element(By.CLASS_NAME,'_2iLD__')\n",
    "search.click()"
   ]
  },
  {
   "cell_type": "code",
   "execution_count": 84,
   "id": "b1bd22ea",
   "metadata": {},
   "outputs": [],
   "source": [
    "s_name=[]\n",
    "company=[]\n",
    "price=[]\n",
    "discount=[]\n"
   ]
  },
  {
   "cell_type": "code",
   "execution_count": 81,
   "id": "9758db5d",
   "metadata": {},
   "outputs": [],
   "source": [
    "company=[]"
   ]
  },
  {
   "cell_type": "code",
   "execution_count": 85,
   "id": "65d599fb",
   "metadata": {},
   "outputs": [],
   "source": [
    "s=driver.find_elements(By.CLASS_NAME,'WKTcLC')\n",
    "for i in s:\n",
    "    s=i.text\n",
    "    s_name.append(s)"
   ]
  },
  {
   "cell_type": "code",
   "execution_count": 92,
   "id": "92b75ad9",
   "metadata": {},
   "outputs": [
    {
     "name": "stdout",
     "output_type": "stream",
     "text": [
      "100\n"
     ]
    }
   ],
   "source": [
    "print(len(s_name))"
   ]
  },
  {
   "cell_type": "code",
   "execution_count": 87,
   "id": "d8f0e6a1",
   "metadata": {},
   "outputs": [],
   "source": [
    "p2=driver.find_element(By.XPATH,'/html/body/div/div/div[3]/div[1]/div[2]/div[12]/div/div/nav/a[2]')\n",
    "p2.click()"
   ]
  },
  {
   "cell_type": "code",
   "execution_count": 88,
   "id": "17694f29",
   "metadata": {},
   "outputs": [],
   "source": [
    "s=driver.find_elements(By.CLASS_NAME,'syl9yP')\n",
    "for i in s:\n",
    "    s=i.text\n",
    "    s_name.append(s)"
   ]
  },
  {
   "cell_type": "code",
   "execution_count": 89,
   "id": "4ca9574b",
   "metadata": {},
   "outputs": [],
   "source": [
    "p2=driver.find_element(By.XPATH,'/html/body/div/div/div[3]/div[1]/div[2]/div[12]/div/div/nav/a[4]')\n",
    "p2.click()"
   ]
  },
  {
   "cell_type": "code",
   "execution_count": 90,
   "id": "97cb3038",
   "metadata": {},
   "outputs": [],
   "source": [
    "s=driver.find_elements(By.CLASS_NAME,'syl9yP')[:20]\n",
    "for i in s:\n",
    "    s=i.text\n",
    "    s_name.append(s)"
   ]
  },
  {
   "cell_type": "code",
   "execution_count": 91,
   "id": "58608dc5",
   "metadata": {},
   "outputs": [
    {
     "name": "stdout",
     "output_type": "stream",
     "text": [
      "['by Lenskart UV Protection Wayfarer Sunglasses (59)', 'Gradient Retro Square Sunglasses (57)', 'Gradient, UV Protection Wayfarer Sunglasses (Free Size)', 'UV Protection Cat-eye, Retro Square, Oval, Round Sungla...', 'UV Protection Aviator Sunglasses (Free Size)', 'Mirrored Wayfarer Sunglasses (50)', 'UV Protection, Polarized, Gradient, Riding Glasses Spor...', 'by Lenskart Polarized, UV Protection Retro Square Sungl...', 'UV Protection Rectangular Sunglasses (Free Size)', 'Gradient, UV Protection Wayfarer Sunglasses (Free Size)', 'UV Protection Rectangular Sunglasses (Free Size)', 'UV Protection Round Sunglasses (51)', 'UV Protection Aviator Sunglasses (Free Size)', 'Mirrored Round Sunglasses (55)', 'by Lenskart Polarized, UV Protection Wayfarer Sunglasse...', 'UV Protection Retro Square, Wayfarer, Sports Sunglasses...', 'UV Protection Retro Square Sunglasses (Free Size)', 'UV Protection Sports, Wrap-around Sunglasses (70)', 'UV Protection Cat-eye Sunglasses (55)', 'UV Protection Wayfarer, Retro Square Sunglasses (52)', 'by Lenskart UV Protection, Polarized Over-sized Sunglas...', 'Gradient Retro Square Sunglasses (57)', 'UV Protection Cat-eye Sunglasses (60)', 'UV Protection Retro Square Sunglasses (54)', 'UV Protection Over-sized Sunglasses (60)', 'UV Protection Aviator Sunglasses (62)', 'Polarized, UV Protection Wayfarer, Retro Square Sunglas...', 'by Lenskart Polarized, UV Protection Aviator Sunglasses...', 'UV Protection Wayfarer Sunglasses (Free Size)', 'UV Protection Wrap-around Sunglasses (Free Size)', 'UV Protection Sports, Wrap-around Sunglasses (59)', 'UV Protection Aviator Sunglasses (58)', 'UV Protection Retro Square Sunglasses (56)', 'UV Protection Butterfly Sunglasses (60)', 'UV Protection Wayfarer Sunglasses (52)', 'UV Protection Rectangular Sunglasses (47)', 'Polarized, UV Protection Rectangular Sunglasses (65)', 'Gradient Wayfarer Sunglasses (50)', 'by Lenskart Polarized, UV Protection Round Sunglasses (...', 'by Lenskart Polarized, UV Protection Wayfarer Sunglasse...', 'IDEE', 'Lenskart STUDIO', 'VINCENT CHASE', 'elegante', 'Rich Club', 'Fastrack', 'john jacobs', 'Hooper', 'DEIXELS', 'Mast & Harbour', 'john jacobs', 'IDEE', 'Singco India', 'ROYAL SON', 'IDEE', 'VINCENT CHASE', 'VINCENT CHASE', 'Lenskart STUDIO', 'ROZZETTA CRAFT', 'ROZZETTA CRAFT', 'VINCENT CHASE', 'john jacobs', 'PIRASO', 'VINCENT CHASE', 'BABYMOON', 'Fastrack', 'VINCENT CHASE', 'john jacobs', 'Elligator', 'Fastrack', 'john jacobs', 'Hooper', 'Rich Club', 'PC STAR', 'VINCENT CHASE', 'GANSTA', 'VINCENT CHASE', 'john jacobs', 'Singco India', 'ROZZETTA CRAFT', 'POLICE', 'IDEE', 'VINCENT CHASE', 'ROYAL SON', 'VINCENT CHASE', 'Roadster', 'Hooper', 'IDEE', 'PIRASO', 'ROYAL SON', 'john jacobs', 'VINCENT CHASE', 'ROZZETTA CRAFT', 'ROZZETTA CRAFT', 'Rich Club', 'VINCENT CHASE', 'IDEE', 'IDEE', 'Elligator', 'hayden haiza']\n"
     ]
    }
   ],
   "source": [
    "print(s_name)"
   ]
  },
  {
   "cell_type": "code",
   "execution_count": 93,
   "id": "b842d25a",
   "metadata": {},
   "outputs": [],
   "source": [
    "c=driver.find_elements(By.CLASS_NAME,'syl9yP')\n",
    "for i in c:\n",
    "    c=i.text\n",
    "    company.append(c)"
   ]
  },
  {
   "cell_type": "code",
   "execution_count": 94,
   "id": "ec9c7020",
   "metadata": {},
   "outputs": [
    {
     "name": "stdout",
     "output_type": "stream",
     "text": [
      "40\n"
     ]
    }
   ],
   "source": [
    "print(len(company))"
   ]
  },
  {
   "cell_type": "code",
   "execution_count": 95,
   "id": "4cadb1c2",
   "metadata": {},
   "outputs": [],
   "source": [
    "p2=driver.find_element(By.XPATH,'/html/body/div/div/div[3]/div[1]/div[2]/div[12]/div/div/nav/a[2]')\n",
    "p2.click()"
   ]
  },
  {
   "cell_type": "code",
   "execution_count": 96,
   "id": "8ae81a87",
   "metadata": {},
   "outputs": [],
   "source": [
    "c=driver.find_elements(By.CLASS_NAME,'syl9yP')\n",
    "for i in c:\n",
    "    c=i.text\n",
    "    company.append(c)"
   ]
  },
  {
   "cell_type": "code",
   "execution_count": 97,
   "id": "6864b8ec",
   "metadata": {},
   "outputs": [],
   "source": [
    "p2=driver.find_element(By.XPATH,'/html/body/div/div/div[3]/div[1]/div[2]/div[12]/div/div/nav/a[4]')\n",
    "p2.click()"
   ]
  },
  {
   "cell_type": "code",
   "execution_count": 98,
   "id": "f758f87f",
   "metadata": {},
   "outputs": [],
   "source": [
    "c=driver.find_elements(By.CLASS_NAME,'syl9yP')[:20]\n",
    "for i in c:\n",
    "    c=i.text\n",
    "    company.append(c)"
   ]
  },
  {
   "cell_type": "code",
   "execution_count": 99,
   "id": "83a642ee",
   "metadata": {},
   "outputs": [
    {
     "name": "stdout",
     "output_type": "stream",
     "text": [
      "['VINCENT CHASE', 'POLICE', 'Fastrack', 'Elligator', 'PIRASO', 'Elligator', 'LAER', 'VINCENT CHASE', 'Fastrack', 'Fastrack', 'Eyenaks', 'john jacobs', 'Fastrack', 'MagJons', 'VINCENT CHASE', 'ROADWAY', 'elegante', 'NuVew', 'hayden haiza', 'Elligator', 'VINCENT CHASE', 'POLICE', 'Dressberry', 'Rich Club', 'PIRASO', 'Ray-Ban', 'ROYAL SON', 'VINCENT CHASE', 'Fastrack', 'Fastrack', 'NuVew', 'NuVew', 'Fastrack', 'PIRASO', 'Rich Club', 'hayden haiza', 'Eyewearlabs', 'POLICE', 'VINCENT CHASE', 'VINCENT CHASE', 'IDEE', 'Lenskart STUDIO', 'VINCENT CHASE', 'elegante', 'Rich Club', 'Fastrack', 'john jacobs', 'Hooper', 'DEIXELS', 'Mast & Harbour', 'john jacobs', 'IDEE', 'Singco India', 'ROYAL SON', 'IDEE', 'VINCENT CHASE', 'VINCENT CHASE', 'Lenskart STUDIO', 'ROZZETTA CRAFT', 'ROZZETTA CRAFT', 'VINCENT CHASE', 'john jacobs', 'PIRASO', 'VINCENT CHASE', 'BABYMOON', 'Fastrack', 'VINCENT CHASE', 'NuVew', 'Elligator', 'Fastrack', 'john jacobs', 'john jacobs', 'Rich Club', 'PC STAR', 'VINCENT CHASE', 'GANSTA', 'Hooper', 'VINCENT CHASE', 'Singco India', 'ROZZETTA CRAFT', 'POLICE', 'IDEE', 'VINCENT CHASE', 'ROYAL SON', 'VINCENT CHASE', 'Roadster', 'Hooper', 'IDEE', 'PIRASO', 'ROYAL SON', 'john jacobs', 'VINCENT CHASE', 'ROZZETTA CRAFT', 'ROZZETTA CRAFT', 'Rich Club', 'VINCENT CHASE', 'IDEE', 'IDEE', 'Elligator', 'hayden haiza']\n"
     ]
    }
   ],
   "source": [
    "print(company)"
   ]
  },
  {
   "cell_type": "code",
   "execution_count": 106,
   "id": "ef3fc7d0",
   "metadata": {},
   "outputs": [],
   "source": [
    "p=driver.find_elements(By.CLASS_NAME,'Nx9bqj')[:40]\n",
    "for i in p:\n",
    "    p=i.text\n",
    "    price.append(p)"
   ]
  },
  {
   "cell_type": "code",
   "execution_count": 107,
   "id": "38bc7b6b",
   "metadata": {},
   "outputs": [
    {
     "name": "stdout",
     "output_type": "stream",
     "text": [
      "40\n"
     ]
    }
   ],
   "source": [
    "print(len(price))"
   ]
  },
  {
   "cell_type": "code",
   "execution_count": 109,
   "id": "5483a967",
   "metadata": {},
   "outputs": [],
   "source": [
    "p2=driver.find_element(By.XPATH,'/html/body/div/div/div[3]/div[1]/div[2]/div[12]/div/div/nav/a[2]')\n",
    "p2.click()"
   ]
  },
  {
   "cell_type": "code",
   "execution_count": 110,
   "id": "632ea44a",
   "metadata": {},
   "outputs": [],
   "source": [
    "p=driver.find_elements(By.CLASS_NAME,'Nx9bqj')[:40]\n",
    "for i in p:\n",
    "    p=i.text\n",
    "    price.append(p)"
   ]
  },
  {
   "cell_type": "code",
   "execution_count": 111,
   "id": "3ee8105c",
   "metadata": {},
   "outputs": [],
   "source": [
    "p2=driver.find_element(By.XPATH,'/html/body/div/div/div[3]/div[1]/div[2]/div[12]/div/div/nav/a[4]')\n",
    "p2.click()"
   ]
  },
  {
   "cell_type": "code",
   "execution_count": 112,
   "id": "a8951ae0",
   "metadata": {},
   "outputs": [],
   "source": [
    "p=driver.find_elements(By.CLASS_NAME,'Nx9bqj')[:20]\n",
    "for i in p:\n",
    "    p=i.text\n",
    "    price.append(p)"
   ]
  },
  {
   "cell_type": "code",
   "execution_count": 115,
   "id": "263955d7",
   "metadata": {},
   "outputs": [
    {
     "name": "stdout",
     "output_type": "stream",
     "text": [
      "100\n"
     ]
    }
   ],
   "source": [
    "print(len(price))"
   ]
  },
  {
   "cell_type": "code",
   "execution_count": 116,
   "id": "a3fe0dcf",
   "metadata": {},
   "outputs": [
    {
     "name": "stdout",
     "output_type": "stream",
     "text": [
      "['₹2,626', '₹2,275', '₹818', '₹854', '₹806', '₹230', '₹699', '₹1,061', '₹307', '₹664', '₹2,316', '₹1,049', '₹384', '₹499', '₹299', '₹1,049', '₹1,296', '₹1,004', '₹159', '₹249', '₹1,092', '₹1,184', '₹279', '₹399', '₹499', '₹509', '₹2,144', '₹1,154', '₹585', '₹1,250', '₹2,437', '₹2,200', '₹248', '₹199', '₹246', '₹385', '₹2,316', '₹1,154', '₹545', '₹245', '₹487', '₹2,824', '₹503', '₹149', '₹303', '₹249', '₹299', '₹1,049', '₹470', '₹500', '₹389', '₹2,316', '₹522', '₹290', '₹499', '₹209', '₹314', '₹499', '₹287', '₹179', '₹1,049', '₹2,626', '₹383', '₹487', '₹279', '₹6,552', '₹594', '₹415', '₹575', '₹519', '₹1,679', '₹315', '₹1,385', '₹370', '₹249', '₹265', '₹2,199', '₹299', '₹879', '₹499', '₹944', '₹2,175', '₹399', '₹766', '₹699', '₹1,975', '₹1,250', '₹1,975', '₹299', '₹379', '₹699', '₹516', '₹279', '₹991', '₹779', '₹499', '₹712', '₹854', '₹6,552', '₹974']\n"
     ]
    }
   ],
   "source": [
    "print(price)"
   ]
  },
  {
   "cell_type": "code",
   "execution_count": 120,
   "id": "cdfa7f48",
   "metadata": {},
   "outputs": [],
   "source": [
    "d=driver.find_elements(By.CLASS_NAME,'UkUFwK')[:40]\n",
    "for i in d:\n",
    "    d=i.text\n",
    "    discount.append(d)"
   ]
  },
  {
   "cell_type": "code",
   "execution_count": 126,
   "id": "dcf28d50",
   "metadata": {},
   "outputs": [
    {
     "name": "stdout",
     "output_type": "stream",
     "text": [
      "100\n"
     ]
    }
   ],
   "source": [
    "print(len(discount))"
   ]
  },
  {
   "cell_type": "code",
   "execution_count": 122,
   "id": "ca017900",
   "metadata": {},
   "outputs": [],
   "source": [
    "p2=driver.find_element(By.XPATH,'/html/body/div/div/div[3]/div[1]/div[2]/div[12]/div/div/nav/a[2]')\n",
    "p2.click()"
   ]
  },
  {
   "cell_type": "code",
   "execution_count": 123,
   "id": "e2099913",
   "metadata": {},
   "outputs": [],
   "source": [
    "d=driver.find_elements(By.CLASS_NAME,'UkUFwK')[:40]\n",
    "for i in d:\n",
    "    d=i.text\n",
    "    discount.append(d)"
   ]
  },
  {
   "cell_type": "code",
   "execution_count": 124,
   "id": "0c00246d",
   "metadata": {},
   "outputs": [],
   "source": [
    "p2=driver.find_element(By.XPATH,'/html/body/div/div/div[3]/div[1]/div[2]/div[12]/div/div/nav/a[4]')\n",
    "p2.click()"
   ]
  },
  {
   "cell_type": "code",
   "execution_count": 125,
   "id": "6e01a296",
   "metadata": {},
   "outputs": [],
   "source": [
    "d=driver.find_elements(By.CLASS_NAME,'UkUFwK')[:20]\n",
    "for i in d:\n",
    "    d=i.text\n",
    "    discount.append(d)"
   ]
  },
  {
   "cell_type": "code",
   "execution_count": 127,
   "id": "5b731ad7",
   "metadata": {},
   "outputs": [
    {
     "name": "stdout",
     "output_type": "stream",
     "text": [
      "['75% off', '70% off', '49% off', '75% off', '81% off', '80% off', '70% off', '47% off', '47% off', '49% off', '74% off', '61% off', '47% off', '70% off', '75% off', '79% off', '79% off', '68% off', '78% off', '82% off', '47% off', '70% off', '75% off', '62% off', '89% off', '20% off', '70% off', '74% off', '47% off', '48% off', '80% off', '16% off', '1% off', '85% off', '75% off', '84% off', '85% off', '38% off', '56% off', '75% off', '65% off', '50% off', '75% off', '79% off', '69% off', '47% off', '50% off', '74% off', '65% off', '77% off', '69% off', '50% off', '82% off', '70% off', '69% off', '75% off', '50% off', '35% off', '81% off', '81% off', '45% off', '59% off', '85% off', '47% off', '60% off', '45% off', '73% off', '47% off', '90% off', '45% off', '50% off', '63% off', '74% off', '80% off', '75% off', '86% off', '47% off', '50% off', '82% off', '85% off', '70% off', '65% off', '67% off', '57% off', '59% off', '79% off', '69% off', '61% off', '88% off', '66% off', '69% off', '71% off', '80% off', '75% off', '70% off', '47% off', '69% off', '47% off', '68% off', '82% off']\n"
     ]
    }
   ],
   "source": [
    "print(discount)"
   ]
  },
  {
   "cell_type": "code",
   "execution_count": 128,
   "id": "7d9190ca",
   "metadata": {},
   "outputs": [
    {
     "data": {
      "text/html": [
       "<div>\n",
       "<style scoped>\n",
       "    .dataframe tbody tr th:only-of-type {\n",
       "        vertical-align: middle;\n",
       "    }\n",
       "\n",
       "    .dataframe tbody tr th {\n",
       "        vertical-align: top;\n",
       "    }\n",
       "\n",
       "    .dataframe thead th {\n",
       "        text-align: right;\n",
       "    }\n",
       "</style>\n",
       "<table border=\"1\" class=\"dataframe\">\n",
       "  <thead>\n",
       "    <tr style=\"text-align: right;\">\n",
       "      <th></th>\n",
       "      <th>Product Name</th>\n",
       "      <th>Company name</th>\n",
       "      <th>Price</th>\n",
       "      <th>Discount</th>\n",
       "    </tr>\n",
       "  </thead>\n",
       "  <tbody>\n",
       "    <tr>\n",
       "      <th>1</th>\n",
       "      <td>by Lenskart UV Protection Wayfarer Sunglasses ...</td>\n",
       "      <td>VINCENT CHASE</td>\n",
       "      <td>₹2,626</td>\n",
       "      <td>75% off</td>\n",
       "    </tr>\n",
       "    <tr>\n",
       "      <th>2</th>\n",
       "      <td>Gradient Retro Square Sunglasses (57)</td>\n",
       "      <td>POLICE</td>\n",
       "      <td>₹2,275</td>\n",
       "      <td>70% off</td>\n",
       "    </tr>\n",
       "    <tr>\n",
       "      <th>3</th>\n",
       "      <td>Gradient, UV Protection Wayfarer Sunglasses (F...</td>\n",
       "      <td>Fastrack</td>\n",
       "      <td>₹818</td>\n",
       "      <td>49% off</td>\n",
       "    </tr>\n",
       "    <tr>\n",
       "      <th>4</th>\n",
       "      <td>UV Protection Cat-eye, Retro Square, Oval, Rou...</td>\n",
       "      <td>Elligator</td>\n",
       "      <td>₹854</td>\n",
       "      <td>75% off</td>\n",
       "    </tr>\n",
       "    <tr>\n",
       "      <th>5</th>\n",
       "      <td>UV Protection Aviator Sunglasses (Free Size)</td>\n",
       "      <td>PIRASO</td>\n",
       "      <td>₹806</td>\n",
       "      <td>81% off</td>\n",
       "    </tr>\n",
       "    <tr>\n",
       "      <th>...</th>\n",
       "      <td>...</td>\n",
       "      <td>...</td>\n",
       "      <td>...</td>\n",
       "      <td>...</td>\n",
       "    </tr>\n",
       "    <tr>\n",
       "      <th>96</th>\n",
       "      <td>VINCENT CHASE</td>\n",
       "      <td>VINCENT CHASE</td>\n",
       "      <td>₹499</td>\n",
       "      <td>47% off</td>\n",
       "    </tr>\n",
       "    <tr>\n",
       "      <th>97</th>\n",
       "      <td>IDEE</td>\n",
       "      <td>IDEE</td>\n",
       "      <td>₹712</td>\n",
       "      <td>69% off</td>\n",
       "    </tr>\n",
       "    <tr>\n",
       "      <th>98</th>\n",
       "      <td>IDEE</td>\n",
       "      <td>IDEE</td>\n",
       "      <td>₹854</td>\n",
       "      <td>47% off</td>\n",
       "    </tr>\n",
       "    <tr>\n",
       "      <th>99</th>\n",
       "      <td>Elligator</td>\n",
       "      <td>Elligator</td>\n",
       "      <td>₹6,552</td>\n",
       "      <td>68% off</td>\n",
       "    </tr>\n",
       "    <tr>\n",
       "      <th>100</th>\n",
       "      <td>hayden haiza</td>\n",
       "      <td>hayden haiza</td>\n",
       "      <td>₹974</td>\n",
       "      <td>82% off</td>\n",
       "    </tr>\n",
       "  </tbody>\n",
       "</table>\n",
       "<p>100 rows × 4 columns</p>\n",
       "</div>"
      ],
      "text/plain": [
       "                                          Product Name   Company name   Price  \\\n",
       "1    by Lenskart UV Protection Wayfarer Sunglasses ...  VINCENT CHASE  ₹2,626   \n",
       "2                Gradient Retro Square Sunglasses (57)         POLICE  ₹2,275   \n",
       "3    Gradient, UV Protection Wayfarer Sunglasses (F...       Fastrack    ₹818   \n",
       "4    UV Protection Cat-eye, Retro Square, Oval, Rou...      Elligator    ₹854   \n",
       "5         UV Protection Aviator Sunglasses (Free Size)         PIRASO    ₹806   \n",
       "..                                                 ...            ...     ...   \n",
       "96                                       VINCENT CHASE  VINCENT CHASE    ₹499   \n",
       "97                                                IDEE           IDEE    ₹712   \n",
       "98                                                IDEE           IDEE    ₹854   \n",
       "99                                           Elligator      Elligator  ₹6,552   \n",
       "100                                       hayden haiza   hayden haiza    ₹974   \n",
       "\n",
       "    Discount  \n",
       "1    75% off  \n",
       "2    70% off  \n",
       "3    49% off  \n",
       "4    75% off  \n",
       "5    81% off  \n",
       "..       ...  \n",
       "96   47% off  \n",
       "97   69% off  \n",
       "98   47% off  \n",
       "99   68% off  \n",
       "100  82% off  \n",
       "\n",
       "[100 rows x 4 columns]"
      ]
     },
     "execution_count": 128,
     "metadata": {},
     "output_type": "execute_result"
    }
   ],
   "source": [
    "df=pd.DataFrame({\"Product Name\":s_name,\"Company name\":company,\"Price\":price,\"Discount\":discount},index=range(1,len(s_name)+1))\n",
    "df"
   ]
  },
  {
   "cell_type": "code",
   "execution_count": null,
   "id": "918f6866",
   "metadata": {},
   "outputs": [],
   "source": []
  }
 ],
 "metadata": {
  "kernelspec": {
   "display_name": "Python 3 (ipykernel)",
   "language": "python",
   "name": "python3"
  },
  "language_info": {
   "codemirror_mode": {
    "name": "ipython",
    "version": 3
   },
   "file_extension": ".py",
   "mimetype": "text/x-python",
   "name": "python",
   "nbconvert_exporter": "python",
   "pygments_lexer": "ipython3",
   "version": "3.11.4"
  }
 },
 "nbformat": 4,
 "nbformat_minor": 5
}
